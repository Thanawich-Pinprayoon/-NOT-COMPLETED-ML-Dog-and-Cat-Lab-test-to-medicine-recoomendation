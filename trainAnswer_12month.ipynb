{
  "nbformat": 4,
  "nbformat_minor": 0,
  "metadata": {
    "colab": {
      "name": "trainAnswer_12month.ipynb",
      "provenance": [],
      "collapsed_sections": [],
      "authorship_tag": "ABX9TyNFhFHILEMHs+9GNUyFsHgh",
      "include_colab_link": true
    },
    "kernelspec": {
      "name": "python3",
      "display_name": "Python 3"
    }
  },
  "cells": [
    {
      "cell_type": "markdown",
      "metadata": {
        "id": "view-in-github",
        "colab_type": "text"
      },
      "source": [
        "<a href=\"https://colab.research.google.com/github/Thanawich-Pinprayoon/-NOT-COMPLETED-ML-Dog-and-Cat-Lab-test-to-medicine-recoomendation/blob/master/trainAnswer_12month.ipynb\" target=\"_parent\"><img src=\"https://colab.research.google.com/assets/colab-badge.svg\" alt=\"Open In Colab\"/></a>"
      ]
    },
    {
      "cell_type": "code",
      "metadata": {
        "id": "nN6J59xL_xPL",
        "colab_type": "code",
        "colab": {}
      },
      "source": [
        "import pandas as pd"
      ],
      "execution_count": 0,
      "outputs": []
    },
    {
      "cell_type": "code",
      "metadata": {
        "id": "E6q7IJc8DZZx",
        "colab_type": "code",
        "outputId": "a9735d1d-b307-44bf-ebea-393816c25ab8",
        "colab": {
          "base_uri": "https://localhost:8080/",
          "height": 122
        }
      },
      "source": [
        "import os \n",
        "from google.colab import drive\n",
        "drive.mount('/content/drive')"
      ],
      "execution_count": 0,
      "outputs": [
        {
          "output_type": "stream",
          "text": [
            "Go to this URL in a browser: https://accounts.google.com/o/oauth2/auth?client_id=947318989803-6bn6qk8qdgf4n4g3pfee6491hc0brc4i.apps.googleusercontent.com&redirect_uri=urn%3aietf%3awg%3aoauth%3a2.0%3aoob&response_type=code&scope=email%20https%3a%2f%2fwww.googleapis.com%2fauth%2fdocs.test%20https%3a%2f%2fwww.googleapis.com%2fauth%2fdrive%20https%3a%2f%2fwww.googleapis.com%2fauth%2fdrive.photos.readonly%20https%3a%2f%2fwww.googleapis.com%2fauth%2fpeopleapi.readonly\n",
            "\n",
            "Enter your authorization code:\n",
            "··········\n",
            "Mounted at /content/drive\n"
          ],
          "name": "stdout"
        }
      ]
    },
    {
      "cell_type": "code",
      "metadata": {
        "id": "KRMqk2-IA5dX",
        "colab_type": "code",
        "colab": {}
      },
      "source": [
        "trainAnswer = pd.read_csv('/content/drive/My Drive/ThaiWordcutTest/OutputCSV/GP/out_2018_01_GP.csv')"
      ],
      "execution_count": 0,
      "outputs": []
    },
    {
      "cell_type": "code",
      "metadata": {
        "id": "1hQIa9-RE_XI",
        "colab_type": "code",
        "colab": {}
      },
      "source": [
        "os.chdir('/content/drive/My Drive/ThaiWordcutTest/OutputCSV/GP/')"
      ],
      "execution_count": 0,
      "outputs": []
    },
    {
      "cell_type": "code",
      "metadata": {
        "id": "HKP7jwWNDLDO",
        "colab_type": "code",
        "colab": {}
      },
      "source": [
        "\n",
        "everyMonthAnswer = [pd.read_csv(f, index_col=[0], parse_dates=[0])\n",
        "        for f in os.listdir(os.getcwd()) if f.endswith('csv')]"
      ],
      "execution_count": 0,
      "outputs": []
    },
    {
      "cell_type": "code",
      "metadata": {
        "id": "EsTK_C7SFY0B",
        "colab_type": "code",
        "outputId": "2109588f-a662-493a-af69-c0e0b8a1be3a",
        "colab": {
          "base_uri": "https://localhost:8080/",
          "height": 34
        }
      },
      "source": [
        "len(everyMonthAnswer)"
      ],
      "execution_count": 0,
      "outputs": [
        {
          "output_type": "execute_result",
          "data": {
            "text/plain": [
              "12"
            ]
          },
          "metadata": {
            "tags": []
          },
          "execution_count": 17
        }
      ]
    },
    {
      "cell_type": "code",
      "metadata": {
        "id": "Qjtj1wD1M9C_",
        "colab_type": "code",
        "colab": {}
      },
      "source": [
        "everyMonthAnswer"
      ],
      "execution_count": 0,
      "outputs": []
    },
    {
      "cell_type": "code",
      "metadata": {
        "id": "rCR8LRknM-nV",
        "colab_type": "code",
        "colab": {}
      },
      "source": [
        "trainAnswer = pd.concat(everyMonthAnswer)"
      ],
      "execution_count": 0,
      "outputs": []
    },
    {
      "cell_type": "code",
      "metadata": {
        "id": "3hRAupegN9ET",
        "colab_type": "code",
        "colab": {}
      },
      "source": [
        "trainAnswer = trainAnswer.sort_values(by=['Case_id'])"
      ],
      "execution_count": 0,
      "outputs": []
    },
    {
      "cell_type": "code",
      "metadata": {
        "id": "EwfsMFagNlGJ",
        "colab_type": "code",
        "colab": {}
      },
      "source": [
        "trainAnswer"
      ],
      "execution_count": 0,
      "outputs": []
    },
    {
      "cell_type": "code",
      "metadata": {
        "id": "0gO3KuIWPt5o",
        "colab_type": "code",
        "colab": {}
      },
      "source": [
        "trainAnswer.to_csv('/content/drive/My Drive/ThaiWordcutTest/OutputCSV/GP/trainAnswer_GP_12month.csv', encoding='utf-8', index = False)"
      ],
      "execution_count": 0,
      "outputs": []
    }
  ]
}