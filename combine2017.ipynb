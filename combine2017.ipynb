{
  "nbformat": 4,
  "nbformat_minor": 0,
  "metadata": {
    "colab": {
      "name": "combine2017.ipynb",
      "provenance": [],
      "collapsed_sections": [],
      "authorship_tag": "ABX9TyO9BXdozCV9y1b4K92mywyM",
      "include_colab_link": true
    },
    "kernelspec": {
      "name": "python3",
      "display_name": "Python 3"
    }
  },
  "cells": [
    {
      "cell_type": "markdown",
      "metadata": {
        "id": "view-in-github",
        "colab_type": "text"
      },
      "source": [
        "<a href=\"https://colab.research.google.com/github/Thanawich-Pinprayoon/Dog-and-Cat-Lab-test-to-medicine-recommendation/blob/master/combine2017.ipynb\" target=\"_parent\"><img src=\"https://colab.research.google.com/assets/colab-badge.svg\" alt=\"Open In Colab\"/></a>"
      ]
    },
    {
      "cell_type": "markdown",
      "metadata": {
        "id": "CmOcs155sIHM"
      },
      "source": [
        "#                                   **2016**"
      ]
    },
    {
      "cell_type": "markdown",
      "metadata": {
        "id": "RmzPoNJpnZ2F"
      },
      "source": [
        "#Import + get permission\n",
        "\n"
      ]
    },
    {
      "cell_type": "code",
      "metadata": {
        "id": "kURg34LulQq3",
        "outputId": "2c9a091f-aa9c-42e2-a7f8-a1b0c0a0fec8",
        "colab": {
          "base_uri": "https://localhost:8080/"
        }
      },
      "source": [
        "import os \n",
        "from google.colab import drive\n",
        "drive.mount('/content/drive')"
      ],
      "execution_count": 23,
      "outputs": [
        {
          "output_type": "stream",
          "text": [
            "Drive already mounted at /content/drive; to attempt to forcibly remount, call drive.mount(\"/content/drive\", force_remount=True).\n"
          ],
          "name": "stdout"
        }
      ]
    },
    {
      "cell_type": "code",
      "metadata": {
        "id": "KkKbSQqtmMvV"
      },
      "source": [
        "import pandas as pd"
      ],
      "execution_count": 24,
      "outputs": []
    },
    {
      "cell_type": "markdown",
      "metadata": {
        "id": "iS2r_cpQnO1V"
      },
      "source": [
        "#get Data"
      ]
    },
    {
      "cell_type": "code",
      "metadata": {
        "id": "6BGL4hkn8esg"
      },
      "source": [
        "Lab_df = pd.read_csv('/content/drive/My Drive/ThaiWordcutTest/doc/csv/2017/ANTIMICROBIALS_2017_GN.csv')"
      ],
      "execution_count": 25,
      "outputs": []
    },
    {
      "cell_type": "code",
      "metadata": {
        "id": "6g_m0ln9nAIN"
      },
      "source": [
        "AST_df = pd.read_csv('/content/drive/My Drive/ThaiWordcutTest/doc/csv/2017/AST_2017_GN.csv')"
      ],
      "execution_count": 26,
      "outputs": []
    },
    {
      "cell_type": "markdown",
      "metadata": {
        "id": "B0GZkQE0qaKU"
      },
      "source": [
        "#COMBINE BOTH FILE TO ONE"
      ]
    },
    {
      "cell_type": "markdown",
      "metadata": {
        "id": "nHWuIXwznU1z"
      },
      "source": [
        "##define med list from Get_ALL_GN_MED.ipynb"
      ]
    },
    {
      "cell_type": "code",
      "metadata": {
        "id": "3VUFT9tHfk8e"
      },
      "source": [
        "drug_list = [ \n",
        "#  A\n",
        " 'Amikacin',\n",
        " 'Ampicillin',\n",
        " 'Amoxicillin/clavulanic acid',\n",
        "#  B\n",
        "#  C\n",
        " 'Cefixime',\n",
        " 'Cefovecin',\n",
        " 'Cefpodoxime',\n",
        " 'Ceftiofur',\n",
        " 'Ceftriaxone',\n",
        " 'Cephalexin',\n",
        " 'Chloramphenicol',\n",
        " 'Colistin (polymyxin E)',\n",
        "#  D\n",
        " 'Doxycycline',\n",
        "#  E\n",
        " 'ESBL',\n",
        " 'Enrofloxacin',\n",
        "#  F\n",
        " 'Fosfomycin',\n",
        "#  G\n",
        " 'Gentamicin',\n",
        "#  H\n",
        "#  I\n",
        " 'Imipenem',\n",
        "#  J\n",
        "#  K\n",
        "#  L\n",
        "#  M\n",
        " 'Marbofloxacin',\n",
        "#  N\n",
        " 'Nitrofurantoin',\n",
        "#  O\n",
        "#  P\n",
        " 'Piperacillin-tazobactam',\n",
        " 'Polymyxin B',\n",
        "#  Q\n",
        "#  R\n",
        " 'Rifampin',\n",
        "#  S\n",
        " 'Sulfamethoxazole/trimethoprim',\n",
        "#  T\n",
        " 'Tetracycline',\n",
        " 'Tobramycin',\n",
        " ]"
      ],
      "execution_count": 27,
      "outputs": []
    },
    {
      "cell_type": "code",
      "metadata": {
        "id": "rM_--gI0_tYQ"
      },
      "source": [
        "class Case:\n",
        "  def __init__(self,id = None):\n",
        "    self.id = id\n",
        "    # if id = None:\n",
        "    #   self.id = -1\n",
        "    # else:\n",
        "    #   self.id = id\n",
        "\n",
        "    # if list == None:\n",
        "    self.list = []\n",
        "    for _list in drug_list:\n",
        "      self._list = None\n",
        "    # GP\n",
        "    # self.Ampicillin = None\n",
        "    # self.Amoxicillinclavulanicacid = None\n",
        "    # self.Piperacillin = None\n",
        "    # self.Cephalexin = None\n",
        "    # self.Cefpodoxime = None\n",
        "    # self.Cefovecin = None\n",
        "    # self.Ceftiofur = None\n",
        "    # self.Imipenem = None\n",
        "    # self.Amikacin = None\n",
        "    # self.Gentamicin = None\n",
        "    # self.Tobramycin = None\n",
        "    # self.Enrofloxacin = None\n",
        "    # self.Marbofloxacin = None\n",
        "    # self.Tetracycline = None\n",
        "    # self.Nitrofurantoin = None\n",
        "    # self.Chloramphenicol = None\n",
        "    # self.PolymyxinB = None\n",
        "    # self.Rifampin = None\n",
        "    # self.Sulfamethoxazoletrimethoprim = None\n",
        "    # self.ESBL = None\n",
        "    for __i in drug_list:\n",
        "      self.list.append(\"NA\")\n",
        "  def makeList(self):\n",
        "    list = []\n",
        "    for _list in drug_list:\n",
        "      list.append(self._list)\n",
        "\n",
        "    # GP\n",
        "    # list.append(self.Ampicillin)\n",
        "    # list.append(self.Amoxicillinclavulanicacid)\n",
        "    # list.append(self.Piperacillin)\n",
        "    # list.append(self.Cephalexin)\n",
        "    # list.append(self.Cefpodoxime)\n",
        "    # list.append(self.Cefovecin)\n",
        "    # list.append(self.Ceftiofur)\n",
        "    # list.append(self.Imipenem)\n",
        "    # list.append(self.Amikacin)\n",
        "    # list.append(self.Gentamicin)\n",
        "    # list.append(self.Tobramycin)\n",
        "    # list.append(self.Enrofloxacin)\n",
        "    # list.append(self.Marbofloxacin)\n",
        "    # list.append(self.Tetracycline)\n",
        "    # list.append(self.Nitrofurantoin)\n",
        "    # list.append(self.Chloramphenicol)\n",
        "    # list.append(self.PolymyxinB)\n",
        "    # list.append(self.Rifampin)\n",
        "    # list.append(self.Sulfamethoxazoletrimethoprim)\n",
        "    # list.append(self.ESBL)\n",
        "\n",
        "  def set_id(self,id):\n",
        "    self.id = id\n",
        "  \n",
        "  def __str__(self):\n",
        "    return str(self.id)"
      ],
      "execution_count": 28,
      "outputs": []
    },
    {
      "cell_type": "code",
      "metadata": {
        "id": "u2i02uggOCbK"
      },
      "source": [
        "\n",
        "def getCol(drugName):\n",
        "  drugName = str(drugName)\n",
        "  if drugName[-1] == \" \":\n",
        "    drugName = drugName.strip()\n",
        "  if drugName == 'Amoxicillin/clavulanic':\n",
        "    drugName = 'Amoxicillin/clavulanic acid'\n",
        "  elif drugName == 'Amoxicillin':\n",
        "    drugName = 'Amoxicillin/clavulanic acid'\n",
        "  elif drugName == 'Piperacillin':\n",
        "    drugName = 'Piperacillin-tazobactam'\n",
        "  elif drugName == 'Cefalexin':\n",
        "    drugName = 'Cephalexin'\n",
        "  elif drugName ==  'Polymixin B':\n",
        "    drugName = 'Polymyxin B'\n",
        "  for index_drugList in range(len(drug_list)):\n",
        "    # print(drugName,drug_list[index_drugList])\n",
        "    if drugName == drug_list[index_drugList]:\n",
        "      return int(index_drugList)\n",
        "   \n",
        "  print('================================================================')\n",
        "  print('      ERROR : drug name : ',drugName,' NOT FOUND!')\n",
        "  print('================================================================')\n",
        "  drug_not_found.append(drugName)\n",
        "  return None"
      ],
      "execution_count": 29,
      "outputs": []
    },
    {
      "cell_type": "code",
      "metadata": {
        "id": "fWMqe6vyEe1N"
      },
      "source": [
        "cases = []\n",
        "ids_list = []\n",
        "drug_not_found = []\n",
        "for index_Lab in range(len(Lab_df['id'])):\n",
        "  # print(index_Lab)\n",
        "  #dropped 0\n",
        "  if index_Lab == 0:\n",
        "    continue\n",
        "  \n",
        "  #make class\n",
        "  this_id = int(Lab_df['id'].loc[index_Lab])\n",
        "  #print('id = ',this_id,end=\" \")\n",
        "  if this_id not in ids_list:\n",
        "    while this_id != len(cases)-1:\n",
        "      cases.append(Case(index_Lab))\n",
        "    print(\"cases size = \", len(cases))\n",
        "    ids_list.append(this_id)\n",
        "    print(' this id = ',this_id)\n",
        "\n",
        "  #get drug name\n",
        "  drug_name = Lab_df['anti_name'].loc[index_Lab]\n",
        "  print('name : ',drug_name)\n",
        "\n",
        "  #find col of the drug\n",
        "  sel_col = getCol(drug_name)\n",
        "  if sel_col == None:\n",
        "    # break\n",
        "    continue\n",
        "  print('col = ',sel_col)\n",
        "\n",
        "  #put result\n",
        "  # print('   make list ',index_Lab)\n",
        "  cases[this_id].makeList()\n",
        "  cases[this_id].list[sel_col] = Lab_df['sir'].loc[index_Lab]\n",
        "  # print('   -end make list ',index_Lab)\n",
        "  # print(len(cases[this_id].list))\n",
        "  print(\"==============================\")"
      ],
      "execution_count": null,
      "outputs": []
    },
    {
      "cell_type": "code",
      "metadata": {
        "id": "QkNCc7WGFMx8"
      },
      "source": [
        "drug_not_found"
      ],
      "execution_count": null,
      "outputs": []
    },
    {
      "cell_type": "code",
      "metadata": {
        "id": "9_7gtAuMChdK",
        "outputId": "d8a57c55-d3d5-49af-efa9-b12f29b6e0c6",
        "colab": {
          "base_uri": "https://localhost:8080/"
        }
      },
      "source": [
        "len(cases)"
      ],
      "execution_count": 32,
      "outputs": [
        {
          "output_type": "execute_result",
          "data": {
            "text/plain": [
              "542"
            ]
          },
          "metadata": {
            "tags": []
          },
          "execution_count": 32
        }
      ]
    },
    {
      "cell_type": "code",
      "metadata": {
        "id": "U3VXVmAUGepc",
        "outputId": "58dc539a-9462-467b-c0d8-a639e5bc19fa",
        "colab": {
          "base_uri": "https://localhost:8080/",
          "height": 35
        }
      },
      "source": [
        "cases[44].list[2]"
      ],
      "execution_count": 33,
      "outputs": [
        {
          "output_type": "execute_result",
          "data": {
            "application/vnd.google.colaboratory.intrinsic+json": {
              "type": "string"
            },
            "text/plain": [
              "'R'"
            ]
          },
          "metadata": {
            "tags": []
          },
          "execution_count": 33
        }
      ]
    },
    {
      "cell_type": "code",
      "metadata": {
        "id": "F6ezhYrlGvFC"
      },
      "source": [
        "combined_df = AST_df"
      ],
      "execution_count": 34,
      "outputs": []
    },
    {
      "cell_type": "code",
      "metadata": {
        "id": "xy-nur0QHV00",
        "outputId": "e6b1a710-4afb-4344-8235-3cc0300b5bc4",
        "colab": {
          "base_uri": "https://localhost:8080/"
        }
      },
      "source": [
        "combined_columns = ['id','species','submitted_sample','collect_method','vitek_id','bact_species_1']\n",
        "for _drug in drug_list:\n",
        "  combined_columns.append(_drug)\n",
        "print(combined_columns)"
      ],
      "execution_count": 35,
      "outputs": [
        {
          "output_type": "stream",
          "text": [
            "['id', 'species', 'submitted_sample', 'collect_method', 'vitek_id', 'bact_species_1', 'Amikacin', 'Ampicillin', 'Amoxicillin/clavulanic acid', 'Cefixime', 'Cefovecin', 'Cefpodoxime', 'Ceftiofur', 'Ceftriaxone', 'Cephalexin', 'Chloramphenicol', 'Colistin (polymyxin E)', 'Doxycycline', 'ESBL', 'Enrofloxacin', 'Fosfomycin', 'Gentamicin', 'Imipenem', 'Marbofloxacin', 'Nitrofurantoin', 'Piperacillin-tazobactam', 'Polymyxin B', 'Rifampin', 'Sulfamethoxazole/trimethoprim', 'Tetracycline', 'Tobramycin']\n"
          ],
          "name": "stdout"
        }
      ]
    },
    {
      "cell_type": "code",
      "metadata": {
        "id": "TSyZEx3YHWT6"
      },
      "source": [
        "# combined_df = combined_df.drop(columns=['hn']) \n",
        "combined_df = combined_df.drop(columns=['clinician'])\n",
        "combined_df = combined_df.drop(columns=['collect_date'])\n",
        "combined_df = combined_df.drop(columns=['submit_date'])\n",
        "combined_df = combined_df.drop(columns=['owner'])\n",
        "combined_df = combined_df.drop(columns=['patient'])\n",
        "combined_df = combined_df.drop(columns=['breed'])\n",
        "combined_df = combined_df.drop(columns=['sex'])\n",
        "combined_df = combined_df.drop(columns=['birth_date'])\n",
        "combined_df = combined_df.drop(columns=['lot_no'])\n",
        "combined_df = combined_df.drop(columns=['vitek_ast'])\n",
        "combined_df = combined_df.drop(columns=['bact_species_2'])\n",
        "combined_df = combined_df.drop(columns=['read_date'])\n",
        "combined_df = combined_df.drop(columns=['reader'])\n",
        "combined_df = combined_df.drop(columns=['recommendation'])\n",
        "combined_df = combined_df.drop(columns=['file_name'])\n"
      ],
      "execution_count": 36,
      "outputs": []
    },
    {
      "cell_type": "code",
      "metadata": {
        "id": "aAv23flgHYUY"
      },
      "source": [
        "combined_df"
      ],
      "execution_count": null,
      "outputs": []
    },
    {
      "cell_type": "code",
      "metadata": {
        "id": "4rllx_7iHgJ3"
      },
      "source": [
        "\n",
        "for index_drug_list in range(len(drug_list)):\n",
        "  #list to store sir in col\n",
        "  colDrug = []\n",
        "  #collect sir result from cases\n",
        "  for index_cases in range(len(cases)):\n",
        "    colDrug.append(cases[index_cases].list[index_drug_list])\n",
        "  combined_df[drug_list[index_drug_list]] = colDrug\n",
        "    \n"
      ],
      "execution_count": 38,
      "outputs": []
    },
    {
      "cell_type": "code",
      "metadata": {
        "id": "mvNjfIFOHg5n"
      },
      "source": [
        "combined_df"
      ],
      "execution_count": null,
      "outputs": []
    },
    {
      "cell_type": "code",
      "metadata": {
        "id": "dnLTYxUoA8Ig",
        "outputId": "b916d769-3761-4a61-d9f5-0d36763c15c2",
        "colab": {
          "base_uri": "https://localhost:8080/"
        }
      },
      "source": [
        "species_list = combined_df['species']\n",
        "species_list"
      ],
      "execution_count": 40,
      "outputs": [
        {
          "output_type": "execute_result",
          "data": {
            "text/plain": [
              "0      Dog\n",
              "1      Dog\n",
              "2      Dog\n",
              "3      Dog\n",
              "4      Dog\n",
              "      ... \n",
              "537    Dog\n",
              "538    Dog\n",
              "539    Cat\n",
              "540    Dog\n",
              "541    Dog\n",
              "Name: species, Length: 542, dtype: object"
            ]
          },
          "metadata": {
            "tags": []
          },
          "execution_count": 40
        }
      ]
    },
    {
      "cell_type": "code",
      "metadata": {
        "id": "DzdExtjjBlms"
      },
      "source": [
        "for specie_index in range(len(species_list)):\n",
        "  if species_list[specie_index] == 'C':\n",
        "    species_list[specie_index] = 'Dog'\n",
        "  elif species_list[specie_index] == 'F':\n",
        "    species_list[specie_index] = 'Cat'"
      ],
      "execution_count": 41,
      "outputs": []
    },
    {
      "cell_type": "code",
      "metadata": {
        "id": "SwAARV13CWyB",
        "outputId": "128edbfb-7cfa-47bb-9ec3-d74858382775",
        "colab": {
          "base_uri": "https://localhost:8080/"
        }
      },
      "source": [
        "species_list"
      ],
      "execution_count": 42,
      "outputs": [
        {
          "output_type": "execute_result",
          "data": {
            "text/plain": [
              "0      Dog\n",
              "1      Dog\n",
              "2      Dog\n",
              "3      Dog\n",
              "4      Dog\n",
              "      ... \n",
              "537    Dog\n",
              "538    Dog\n",
              "539    Cat\n",
              "540    Dog\n",
              "541    Dog\n",
              "Name: species, Length: 542, dtype: object"
            ]
          },
          "metadata": {
            "tags": []
          },
          "execution_count": 42
        }
      ]
    },
    {
      "cell_type": "code",
      "metadata": {
        "id": "6oDZ6VNzC-5O"
      },
      "source": [
        "combined_df"
      ],
      "execution_count": null,
      "outputs": []
    },
    {
      "cell_type": "code",
      "metadata": {
        "id": "mgvDm9TJHkLZ"
      },
      "source": [
        "combined_df.to_csv('/content/drive/My Drive/ThaiWordcutTest/doc/csv/2017/2017_combined_GN.csv', encoding='utf-8', index = False)"
      ],
      "execution_count": 44,
      "outputs": []
    }
  ]
}